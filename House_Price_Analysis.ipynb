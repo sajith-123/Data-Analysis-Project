{
 "cells": [
  {
   "cell_type": "code",
   "execution_count": 1,
   "id": "c288a584",
   "metadata": {},
   "outputs": [
    {
     "name": "stdout",
     "output_type": "stream",
     "text": [
      "Training converged at epoch 2\n",
      "Testing XOR function with trained Madaline:\n",
      "Input: [-1 -1] => Output: [-1]\n",
      "Input: [-1  1] => Output: [1]\n",
      "Input: [ 1 -1] => Output: [1]\n",
      "Input: [1 1] => Output: [-1]\n"
     ]
    }
   ],
   "source": [
    "import numpy as np\n",
    "\n",
    "# Activation function: Step function for Madaline\n",
    "def step_function(x):\n",
    "    return np.where(x >= 0, 1, -1)\n",
    "\n",
    "# Madaline class\n",
    "class Madaline:\n",
    "    def __init__(self, input_size, hidden_size, learning_rate=0.1):\n",
    "        self.input_size = input_size\n",
    "        self.hidden_size = hidden_size\n",
    "        self.learning_rate = learning_rate\n",
    "        # Initialize weights\n",
    "        self.W1 = np.random.randn(self.hidden_size, self.input_size)\n",
    "        self.W2 = np.random.randn(1, self.hidden_size)\n",
    "        self.b1 = np.random.randn(self.hidden_size)\n",
    "        self.b2 = np.random.randn(1)\n",
    "\n",
    "    def forward(self, X):\n",
    "        # Forward propagation\n",
    "        self.z1 = np.dot(X, self.W1.T) + self.b1\n",
    "        self.a1 = step_function(self.z1)\n",
    "        self.z2 = np.dot(self.a1, self.W2.T) + self.b2\n",
    "        self.a2 = step_function(self.z2)\n",
    "        return self.a2\n",
    "\n",
    "    def train(self, X, Y, epochs=1000):\n",
    "        for epoch in range(epochs):\n",
    "            total_error = 0\n",
    "            for i in range(X.shape[0]):\n",
    "                # Forward pass\n",
    "                output = self.forward(X[i])\n",
    "                # Compute error\n",
    "                error = Y[i] - output\n",
    "                total_error += np.abs(error)\n",
    "                \n",
    "                # Update weights if there is an error\n",
    "                if error != 0:\n",
    "                    # Update output layer weights\n",
    "                    self.W2 += self.learning_rate * error * self.a1.reshape(1, -1)\n",
    "                    self.b2 += self.learning_rate * error\n",
    "                    \n",
    "                    # Update hidden layer weights\n",
    "                    for j in range(self.hidden_size):\n",
    "                        if self.a1[j] != Y[i]:  # Only update misclassified Adalines\n",
    "                            self.W1[j] += self.learning_rate * error * X[i]\n",
    "                            self.b1[j] += self.learning_rate * error\n",
    "            \n",
    "            # Stop training if error is zero\n",
    "            if total_error == 0:\n",
    "                print(f\"Training converged at epoch {epoch + 1}\")\n",
    "                break\n",
    "\n",
    "# XOR input and output\n",
    "X = np.array([[-1, -1],\n",
    "              [-1, 1],\n",
    "              [1, -1],\n",
    "              [1, 1]])\n",
    "\n",
    "Y = np.array([[-1], [1], [1], [-1]])\n",
    "\n",
    "# Initialize Madaline network (2 input neurons, 2 hidden neurons)\n",
    "madaline = Madaline(input_size=2, hidden_size=2)\n",
    "\n",
    "# Train the network for 1000 epochs\n",
    "madaline.train(X, Y, epochs=1000)\n",
    "\n",
    "# Test the network\n",
    "print(\"Testing XOR function with trained Madaline:\")\n",
    "for x in X:\n",
    "    output = madaline.forward(x)\n",
    "    print(f\"Input: {x} => Output: {output}\")\n"
   ]
  },
  {
   "cell_type": "code",
   "execution_count": null,
   "id": "bacf7ef0",
   "metadata": {},
   "outputs": [],
   "source": []
  }
 ],
 "metadata": {
  "kernelspec": {
   "display_name": "Python 3 (ipykernel)",
   "language": "python",
   "name": "python3"
  },
  "language_info": {
   "codemirror_mode": {
    "name": "ipython",
    "version": 3
   },
   "file_extension": ".py",
   "mimetype": "text/x-python",
   "name": "python",
   "nbconvert_exporter": "python",
   "pygments_lexer": "ipython3",
   "version": "3.10.9"
  }
 },
 "nbformat": 4,
 "nbformat_minor": 5
}
